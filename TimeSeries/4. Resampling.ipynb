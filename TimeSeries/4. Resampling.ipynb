{
 "cells": [
  {
   "cell_type": "code",
   "execution_count": 13,
   "metadata": {
    "collapsed": true
   },
   "outputs": [],
   "source": [
    "import pandas as pd\n",
    "import numpy as np"
   ]
  },
  {
   "cell_type": "code",
   "execution_count": 14,
   "metadata": {},
   "outputs": [
    {
     "data": {
      "text/plain": [
       "2011-01-01 00:00:00   -0.591308\n",
       "2011-01-01 01:00:00   -0.113344\n",
       "2011-01-01 02:00:00    0.178569\n",
       "2011-01-01 03:00:00   -0.890350\n",
       "2011-01-01 04:00:00    0.487800\n",
       "Freq: H, dtype: float64"
      ]
     },
     "execution_count": 14,
     "metadata": {},
     "output_type": "execute_result"
    }
   ],
   "source": [
    "rng = pd.date_range('1/1/2011', periods=72, freq='H')\n",
    "ts = pd.Series(np.random.randn(len(rng)), index=rng)\n",
    "ts.head()"
   ]
  },
  {
   "cell_type": "code",
   "execution_count": 15,
   "metadata": {},
   "outputs": [
    {
     "data": {
      "text/plain": [
       "2011-01-01 00:00:00   -0.591308\n",
       "2011-01-01 00:45:00   -0.591308\n",
       "2011-01-01 01:30:00   -0.113344\n",
       "2011-01-01 02:15:00    0.178569\n",
       "2011-01-01 03:00:00   -0.890350\n",
       "Freq: 45T, dtype: float64"
      ]
     },
     "execution_count": 15,
     "metadata": {},
     "output_type": "execute_result"
    }
   ],
   "source": [
    "converted = ts.asfreq('45Min', method='pad')\n",
    "converted.head()"
   ]
  },
  {
   "cell_type": "code",
   "execution_count": 16,
   "metadata": {},
   "outputs": [
    {
     "name": "stdout",
     "output_type": "stream",
     "text": [
      "(72,) (95,)\n"
     ]
    }
   ],
   "source": [
    "# Does asfreq change the # of rows?\n",
    "#the datasize below shows the change in data rows\n",
    "print(ts.shape, converted.shape)"
   ]
  },
  {
   "cell_type": "code",
   "execution_count": 17,
   "metadata": {},
   "outputs": [
    {
     "data": {
      "text/plain": [
       "2011-01-01 00:00:00   -0.591308\n",
       "2011-01-01 00:45:00         NaN\n",
       "2011-01-01 01:30:00         NaN\n",
       "2011-01-01 02:15:00         NaN\n",
       "2011-01-01 03:00:00   -0.890350\n",
       "Freq: 45T, dtype: float64"
      ]
     },
     "execution_count": 17,
     "metadata": {},
     "output_type": "execute_result"
    }
   ],
   "source": [
    "#If we use None, NaN values for instances where we do not have data\n",
    "converted_None = ts.asfreq('45Min')\n",
    "converted_None.head()"
   ]
  },
  {
   "cell_type": "code",
   "execution_count": 18,
   "metadata": {
    "collapsed": true
   },
   "outputs": [],
   "source": [
    "# What do the different methods do?\n",
    "# method : {‘backfill’, ‘bfill’, ‘pad’, ‘ffill’, None}"
   ]
  },
  {
   "cell_type": "markdown",
   "metadata": {},
   "source": [
    "**'pad'/'ffill' use the last valid value to fill the next valid.<br>**\n",
    "**'bfill'/'backfill' uses the next valid value to fill.**"
   ]
  },
  {
   "cell_type": "code",
   "execution_count": 19,
   "metadata": {
    "collapsed": true
   },
   "outputs": [],
   "source": [
    "# Might any of these methods have pitfalls from a logical point of view?"
   ]
  },
  {
   "cell_type": "markdown",
   "metadata": {},
   "source": [
    "**when we use bfill, we are assuming we know values from the future.**"
   ]
  },
  {
   "cell_type": "code",
   "execution_count": 20,
   "metadata": {
    "collapsed": true
   },
   "outputs": [],
   "source": [
    "# What's the difference between going to a higher frequency and a lower frequency?\n",
    "#asfreq() just drops. Better to use resampling."
   ]
  },
  {
   "cell_type": "code",
   "execution_count": 21,
   "metadata": {},
   "outputs": [
    {
     "data": {
      "text/plain": [
       "2011-01-01 00:00:00   -0.591308\n",
       "2011-01-01 01:30:00    0.178569\n",
       "2011-01-01 03:00:00   -0.890350\n",
       "2011-01-01 04:30:00    0.179774\n",
       "2011-01-01 06:00:00    0.357252\n",
       "Freq: 90T, dtype: float64"
      ]
     },
     "execution_count": 21,
     "metadata": {},
     "output_type": "execute_result"
    }
   ],
   "source": [
    "converted = ts.asfreq('90Min', method = 'bfill')\n",
    "converted.head()"
   ]
  },
  {
   "cell_type": "code",
   "execution_count": 22,
   "metadata": {
    "collapsed": true
   },
   "outputs": [],
   "source": [
    "# What's different logically about going to a higher frequency vs a lower frequency? \n",
    "# What do you want to do when switching to a lower freqeuncy that is not logical when switching to a higher frequency?"
   ]
  },
  {
   "cell_type": "markdown",
   "metadata": {},
   "source": [
    "**we are likely to loose information/details as we go to lower frequency. It is therefore better to resample, rather than simply dropping data points.**"
   ]
  },
  {
   "cell_type": "code",
   "execution_count": 23,
   "metadata": {},
   "outputs": [
    {
     "data": {
      "text/plain": [
       "2011-01-01 02:00:00   -0.355891\n",
       "2011-01-01 04:00:00    0.333787\n",
       "2011-01-01 06:00:00   -0.533451\n",
       "2011-01-01 08:00:00   -0.607210\n",
       "2011-01-01 10:00:00    0.018203\n",
       "2011-01-01 12:00:00    0.121104\n",
       "2011-01-01 14:00:00   -0.846877\n",
       "2011-01-01 16:00:00    0.106017\n",
       "2011-01-01 18:00:00    0.702338\n",
       "Freq: 2H, dtype: float64"
      ]
     },
     "execution_count": 23,
     "metadata": {},
     "output_type": "execute_result"
    }
   ],
   "source": [
    "ts.resample('2H').mean()[1:10]"
   ]
  },
  {
   "cell_type": "code",
   "execution_count": 24,
   "metadata": {},
   "outputs": [
    {
     "data": {
      "text/plain": [
       "2011-01-01    1.355134\n",
       "2011-01-02    0.759733\n",
       "2011-01-03   -1.132304\n",
       "Freq: D, dtype: float64"
      ]
     },
     "execution_count": 24,
     "metadata": {},
     "output_type": "execute_result"
    }
   ],
   "source": [
    "ts.resample('D').sum()"
   ]
  },
  {
   "cell_type": "code",
   "execution_count": 25,
   "metadata": {
    "collapsed": true
   },
   "outputs": [],
   "source": [
    "# What if you want to downsample and you don't want to ffill or bfill?"
   ]
  },
  {
   "cell_type": "markdown",
   "metadata": {},
   "source": [
    "**Just use 'None'**"
   ]
  },
  {
   "cell_type": "code",
   "execution_count": null,
   "metadata": {
    "collapsed": true
   },
   "outputs": [],
   "source": [
    "# What is the difference between .resample() and .asfreq()?"
   ]
  },
  {
   "cell_type": "markdown",
   "metadata": {
    "collapsed": true
   },
   "source": [
    "**.resample() is a data aggregation and .asfreq() is a data selection. We can do a lot more with resampling (since it is aggregation method, we can do count, mean, etc). For up-sampling, both asfreq() and resample() yield similar results although resample() has more options. For down-sampling, resample() is preferred to asfreq() which simply drops some values and losses information.**"
   ]
  },
  {
   "cell_type": "code",
   "execution_count": null,
   "metadata": {
    "collapsed": true
   },
   "outputs": [],
   "source": [
    "# What are some special things you can do with .resample() you can't do with .asfreq()?\n"
   ]
  },
  {
   "cell_type": "markdown",
   "metadata": {
    "collapsed": true
   },
   "source": [
    "**resampling is routinely used to even out irregular time-series**"
   ]
  },
  {
   "cell_type": "code",
   "execution_count": 26,
   "metadata": {
    "collapsed": true
   },
   "outputs": [],
   "source": [
    "irregular_ts = ts[list(np.random.choice(a = list(range(len(ts))), size=10, replace=False))]"
   ]
  },
  {
   "cell_type": "code",
   "execution_count": 27,
   "metadata": {},
   "outputs": [
    {
     "data": {
      "text/plain": [
       "2011-01-02 11:00:00   -0.153664\n",
       "2011-01-02 12:00:00   -0.382771\n",
       "2011-01-02 06:00:00    0.115786\n",
       "2011-01-03 20:00:00   -0.262492\n",
       "2011-01-02 10:00:00   -0.150956\n",
       "2011-01-03 12:00:00   -0.306069\n",
       "2011-01-03 19:00:00    0.633383\n",
       "2011-01-03 15:00:00   -0.940674\n",
       "2011-01-03 13:00:00    0.189094\n",
       "2011-01-02 15:00:00    0.578121\n",
       "dtype: float64"
      ]
     },
     "execution_count": 27,
     "metadata": {},
     "output_type": "execute_result"
    }
   ],
   "source": [
    "irregular_ts"
   ]
  },
  {
   "cell_type": "code",
   "execution_count": 29,
   "metadata": {},
   "outputs": [
    {
     "data": {
      "text/plain": [
       "2011-01-02 11:00:00   -0.153664\n",
       "Freq: D, dtype: float64"
      ]
     },
     "execution_count": 29,
     "metadata": {},
     "output_type": "execute_result"
    }
   ],
   "source": [
    "irregular_ts.asfreq('D')"
   ]
  },
  {
   "cell_type": "markdown",
   "metadata": {},
   "source": [
    "**The above does not work since it is not ordered**"
   ]
  },
  {
   "cell_type": "code",
   "execution_count": 30,
   "metadata": {
    "collapsed": true
   },
   "outputs": [],
   "source": [
    "irregular_ts = irregular_ts.sort_index()"
   ]
  },
  {
   "cell_type": "code",
   "execution_count": 31,
   "metadata": {},
   "outputs": [
    {
     "data": {
      "text/plain": [
       "2011-01-02 06:00:00    0.115786\n",
       "2011-01-02 10:00:00   -0.150956\n",
       "2011-01-02 11:00:00   -0.153664\n",
       "2011-01-02 12:00:00   -0.382771\n",
       "2011-01-02 15:00:00    0.578121\n",
       "2011-01-03 12:00:00   -0.306069\n",
       "2011-01-03 13:00:00    0.189094\n",
       "2011-01-03 15:00:00   -0.940674\n",
       "2011-01-03 19:00:00    0.633383\n",
       "2011-01-03 20:00:00   -0.262492\n",
       "dtype: float64"
      ]
     },
     "execution_count": 31,
     "metadata": {},
     "output_type": "execute_result"
    }
   ],
   "source": [
    "irregular_ts"
   ]
  },
  {
   "cell_type": "code",
   "execution_count": 32,
   "metadata": {},
   "outputs": [
    {
     "data": {
      "text/plain": [
       "2011-01-02 06:00:00    0.115786\n",
       "2011-01-03 06:00:00         NaN\n",
       "Freq: D, dtype: float64"
      ]
     },
     "execution_count": 32,
     "metadata": {},
     "output_type": "execute_result"
    }
   ],
   "source": [
    "irregular_ts.asfreq('D')"
   ]
  },
  {
   "cell_type": "markdown",
   "metadata": {},
   "source": [
    "**everything that does not fall exactly at 06:00 (since freq = 'D') is a NaN. It is better to use resample.**"
   ]
  },
  {
   "cell_type": "code",
   "execution_count": 33,
   "metadata": {},
   "outputs": [
    {
     "data": {
      "text/plain": [
       "2011-01-02    5\n",
       "2011-01-03    5\n",
       "Freq: D, dtype: int64"
      ]
     },
     "execution_count": 33,
     "metadata": {},
     "output_type": "execute_result"
    }
   ],
   "source": [
    "irregular_ts.resample('D').count()"
   ]
  },
  {
   "cell_type": "code",
   "execution_count": 34,
   "metadata": {},
   "outputs": [
    {
     "data": {
      "text/plain": [
       "2011-01-02    0.001303\n",
       "2011-01-03   -0.137352\n",
       "Freq: D, dtype: float64"
      ]
     },
     "execution_count": 34,
     "metadata": {},
     "output_type": "execute_result"
    }
   ],
   "source": [
    "irregular_ts.resample('D').mean()"
   ]
  },
  {
   "cell_type": "code",
   "execution_count": 35,
   "metadata": {},
   "outputs": [
    {
     "data": {
      "text/plain": [
       "2011-01-02    0.135134\n",
       "2011-01-03    0.347513\n",
       "Freq: D, dtype: float64"
      ]
     },
     "execution_count": 35,
     "metadata": {},
     "output_type": "execute_result"
    }
   ],
   "source": [
    "irregular_ts.resample('D').var()"
   ]
  },
  {
   "cell_type": "code",
   "execution_count": 36,
   "metadata": {
    "collapsed": true
   },
   "outputs": [],
   "source": [
    "#How can I forward-fill only few days?"
   ]
  },
  {
   "cell_type": "code",
   "execution_count": 37,
   "metadata": {
    "collapsed": true
   },
   "outputs": [],
   "source": [
    "irre_ts = ts[list(np.random.choice(a = list(range(len(ts))), size=10, replace=False))]"
   ]
  },
  {
   "cell_type": "code",
   "execution_count": 38,
   "metadata": {
    "collapsed": true
   },
   "outputs": [],
   "source": [
    "irre_ts = irre_ts.sort_index()"
   ]
  },
  {
   "cell_type": "code",
   "execution_count": 39,
   "metadata": {},
   "outputs": [
    {
     "data": {
      "text/plain": [
       "2011-01-01 23:00:00    0.826137\n",
       "2011-01-02 02:00:00    0.265237\n",
       "2011-01-02 06:00:00    0.115786\n",
       "2011-01-02 08:00:00   -1.582702\n",
       "2011-01-02 12:00:00   -0.382771\n",
       "2011-01-02 17:00:00    2.211117\n",
       "2011-01-02 23:00:00   -0.365309\n",
       "2011-01-03 02:00:00   -0.355808\n",
       "2011-01-03 03:00:00    0.610664\n",
       "2011-01-03 09:00:00    0.705341\n",
       "dtype: float64"
      ]
     },
     "execution_count": 39,
     "metadata": {},
     "output_type": "execute_result"
    }
   ],
   "source": [
    "irre_ts"
   ]
  },
  {
   "cell_type": "code",
   "execution_count": 42,
   "metadata": {},
   "outputs": [
    {
     "data": {
      "text/plain": [
       "2011-01-01 23:00:00    0.826137\n",
       "2011-01-02 00:00:00    0.826137\n",
       "2011-01-02 01:00:00    0.826137\n",
       "2011-01-02 02:00:00    0.265237\n",
       "2011-01-02 03:00:00    0.265237\n",
       "2011-01-02 04:00:00    0.265237\n",
       "2011-01-02 05:00:00    0.265237\n",
       "2011-01-02 06:00:00    0.115786\n",
       "2011-01-02 07:00:00    0.115786\n",
       "2011-01-02 08:00:00   -1.582702\n",
       "2011-01-02 09:00:00   -1.582702\n",
       "2011-01-02 10:00:00   -1.582702\n",
       "2011-01-02 11:00:00   -1.582702\n",
       "2011-01-02 12:00:00   -0.382771\n",
       "2011-01-02 13:00:00   -0.382771\n",
       "2011-01-02 14:00:00   -0.382771\n",
       "2011-01-02 15:00:00   -0.382771\n",
       "2011-01-02 16:00:00         NaN\n",
       "2011-01-02 17:00:00    2.211117\n",
       "2011-01-02 18:00:00    2.211117\n",
       "2011-01-02 19:00:00    2.211117\n",
       "2011-01-02 20:00:00    2.211117\n",
       "2011-01-02 21:00:00         NaN\n",
       "2011-01-02 22:00:00         NaN\n",
       "2011-01-02 23:00:00   -0.365309\n",
       "2011-01-03 00:00:00   -0.365309\n",
       "2011-01-03 01:00:00   -0.365309\n",
       "2011-01-03 02:00:00   -0.355808\n",
       "2011-01-03 03:00:00    0.610664\n",
       "2011-01-03 04:00:00    0.610664\n",
       "2011-01-03 05:00:00    0.610664\n",
       "2011-01-03 06:00:00    0.610664\n",
       "2011-01-03 07:00:00         NaN\n",
       "2011-01-03 08:00:00         NaN\n",
       "2011-01-03 09:00:00    0.705341\n",
       "Freq: H, dtype: float64"
      ]
     },
     "execution_count": 42,
     "metadata": {},
     "output_type": "execute_result"
    }
   ],
   "source": [
    "#Use NaN if the no values for 3-consecutive indices\n",
    "irre_ts.resample('H').fillna(method='ffill', limit=3)"
   ]
  },
  {
   "cell_type": "code",
   "execution_count": null,
   "metadata": {
    "collapsed": true
   },
   "outputs": [],
   "source": []
  }
 ],
 "metadata": {
  "kernelspec": {
   "display_name": "Python 3",
   "language": "python",
   "name": "python3"
  },
  "language_info": {
   "codemirror_mode": {
    "name": "ipython",
    "version": 3
   },
   "file_extension": ".py",
   "mimetype": "text/x-python",
   "name": "python",
   "nbconvert_exporter": "python",
   "pygments_lexer": "ipython3",
   "version": "3.6.2"
  },
  "widgets": {
   "state": {},
   "version": "1.1.1"
  }
 },
 "nbformat": 4,
 "nbformat_minor": 1
}
