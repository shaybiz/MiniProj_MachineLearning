{
 "cells": [
  {
   "cell_type": "code",
   "execution_count": 23,
   "metadata": {
    "collapsed": true
   },
   "outputs": [],
   "source": [
    "import numpy as np\n",
    "import pandas as pd"
   ]
  },
  {
   "cell_type": "code",
   "execution_count": 24,
   "metadata": {
    "collapsed": true
   },
   "outputs": [],
   "source": [
    "rng = pd.date_range('3/6/2012 00:00', periods = 15, freq = 'D')\n",
    "rng.tz"
   ]
  },
  {
   "cell_type": "code",
   "execution_count": 25,
   "metadata": {},
   "outputs": [
    {
     "data": {
      "text/plain": [
       "<DstTzInfo 'Europe/London' LMT-1 day, 23:59:00 STD>"
      ]
     },
     "execution_count": 25,
     "metadata": {},
     "output_type": "execute_result"
    }
   ],
   "source": [
    "rng_tz = pd.date_range('3/6/2012 00:00', periods = 15, freq = 'D', tz = 'Europe/London')\n",
    "rng_tz.tz"
   ]
  },
  {
   "cell_type": "code",
   "execution_count": 26,
   "metadata": {},
   "outputs": [
    {
     "name": "stdout",
     "output_type": "stream",
     "text": [
      "439\n",
      "593\n",
      "{'MST', 'GB', 'Australia/Canberra', 'Atlantic/Jan_Mayen', 'Eire', 'Iceland', 'America/Santa_Isabel', 'Turkey', 'Asia/Harbin', 'Australia/Yancowinna', 'Etc/GMT+4', 'US/Samoa', 'Etc/Zulu', 'Hongkong', 'Etc/GMT-1', 'US/East-Indiana', 'America/Ensenada', 'CET', 'Australia/LHI', 'GMT+0', 'Asia/Chongqing', 'Etc/GMT-9', 'Mexico/BajaNorte', 'Asia/Dacca', 'Etc/GMT-13', 'Brazil/DeNoronha', 'America/Virgin', 'America/Mendoza', 'US/Pacific-New', 'Zulu', 'Mexico/BajaSur', 'Asia/Chungking', 'America/Buenos_Aires', 'Etc/GMT-7', 'Poland', 'Brazil/West', 'Europe/Nicosia', 'W-SU', 'Libya', 'America/Catamarca', 'Australia/ACT', 'HST', 'Etc/GMT+0', 'America/Porto_Acre', 'Etc/GMT+8', 'Etc/GMT-3', 'Brazil/East', 'Asia/Ujung_Pandang', 'Asia/Saigon', 'Africa/Timbuktu', 'Etc/GMT-2', 'UCT', 'Asia/Ashkhabad', 'Etc/GMT+5', 'Australia/North', 'GMT-0', 'CST6CDT', 'America/Coral_Harbour', 'US/Michigan', 'America/Cordoba', 'Jamaica', 'US/Indiana-Starke', 'Iran', 'Australia/Victoria', 'Etc/GMT-5', 'Asia/Calcutta', 'Etc/Universal', 'Pacific/Yap', 'Etc/GMT+2', 'ROC', 'Europe/Belfast', 'PRC', 'Australia/Queensland', 'GB-Eire', 'Etc/GMT+3', 'Chile/EasterIsland', 'Asia/Ulan_Bator', 'PST8PDT', 'Etc/GMT', 'Etc/GMT+11', 'Asia/Istanbul', 'Japan', 'Africa/Asmera', 'Pacific/Samoa', 'Etc/GMT-10', 'America/Rosario', 'Israel', 'Antarctica/South_Pole', 'GMT0', 'Atlantic/Faeroe', 'Canada/East-Saskatchewan', 'Etc/GMT-6', 'America/Montreal', 'Etc/GMT-14', 'Greenwich', 'Etc/GMT-0', 'Asia/Macao', 'Etc/Greenwich', 'America/Atka', 'Canada/Yukon', 'Asia/Kashgar', 'EET', 'Asia/Rangoon', 'Canada/Saskatchewan', 'Etc/GMT-4', 'Cuba', 'America/Shiprock', 'Etc/GMT-8', 'Australia/NSW', 'Etc/GMT+7', 'WET', 'Etc/GMT-11', 'US/Aleutian', 'Mexico/General', 'America/Indianapolis', 'Egypt', 'Asia/Tel_Aviv', 'Australia/West', 'Australia/Tasmania', 'America/Louisville', 'Pacific/Ponape', 'Etc/GMT+10', 'Navajo', 'Brazil/Acre', 'MST7MDT', 'Pacific/Truk', 'Etc/UTC', 'Chile/Continental', 'MET', 'NZ-CHAT', 'Asia/Katmandu', 'Etc/GMT+12', 'Singapore', 'America/Argentina/ComodRivadavia', 'Etc/GMT-12', 'Portugal', 'Asia/Thimbu', 'Pacific/Johnston', 'America/Jujuy', 'America/Fort_Wayne', 'Universal', 'Etc/GMT0', 'America/Knox_IN', 'NZ', 'EST5EDT', 'Etc/UCT', 'Australia/South', 'Etc/GMT+6', 'ROK', 'Kwajalein', 'Europe/Tiraspol', 'Etc/GMT+9', 'EST', 'Etc/GMT+1'}\n"
     ]
    }
   ],
   "source": [
    "from pytz import common_timezones, all_timezones\n",
    "print(len(common_timezones))\n",
    "print(len(all_timezones))\n",
    "print(set(all_timezones) - set(common_timezones))"
   ]
  },
  {
   "cell_type": "code",
   "execution_count": 27,
   "metadata": {},
   "outputs": [
    {
     "data": {
      "text/plain": [
       "{'Africa/Asmera',\n",
       " 'Africa/Timbuktu',\n",
       " 'America/Argentina/ComodRivadavia',\n",
       " 'America/Atka',\n",
       " 'America/Buenos_Aires',\n",
       " 'America/Catamarca',\n",
       " 'America/Coral_Harbour',\n",
       " 'America/Cordoba',\n",
       " 'America/Ensenada',\n",
       " 'America/Fort_Wayne',\n",
       " 'America/Indianapolis',\n",
       " 'America/Jujuy',\n",
       " 'America/Knox_IN',\n",
       " 'America/Louisville',\n",
       " 'America/Mendoza',\n",
       " 'America/Montreal',\n",
       " 'America/Porto_Acre',\n",
       " 'America/Rosario',\n",
       " 'America/Santa_Isabel',\n",
       " 'America/Shiprock',\n",
       " 'America/Virgin',\n",
       " 'Antarctica/South_Pole',\n",
       " 'Asia/Ashkhabad',\n",
       " 'Asia/Calcutta',\n",
       " 'Asia/Chongqing',\n",
       " 'Asia/Chungking',\n",
       " 'Asia/Dacca',\n",
       " 'Asia/Harbin',\n",
       " 'Asia/Istanbul',\n",
       " 'Asia/Kashgar',\n",
       " 'Asia/Katmandu',\n",
       " 'Asia/Macao',\n",
       " 'Asia/Rangoon',\n",
       " 'Asia/Saigon',\n",
       " 'Asia/Tel_Aviv',\n",
       " 'Asia/Thimbu',\n",
       " 'Asia/Ujung_Pandang',\n",
       " 'Asia/Ulan_Bator',\n",
       " 'Atlantic/Faeroe',\n",
       " 'Atlantic/Jan_Mayen',\n",
       " 'Australia/ACT',\n",
       " 'Australia/Canberra',\n",
       " 'Australia/LHI',\n",
       " 'Australia/NSW',\n",
       " 'Australia/North',\n",
       " 'Australia/Queensland',\n",
       " 'Australia/South',\n",
       " 'Australia/Tasmania',\n",
       " 'Australia/Victoria',\n",
       " 'Australia/West',\n",
       " 'Australia/Yancowinna',\n",
       " 'Brazil/Acre',\n",
       " 'Brazil/DeNoronha',\n",
       " 'Brazil/East',\n",
       " 'Brazil/West',\n",
       " 'CET',\n",
       " 'CST6CDT',\n",
       " 'Canada/East-Saskatchewan',\n",
       " 'Canada/Saskatchewan',\n",
       " 'Canada/Yukon',\n",
       " 'Chile/Continental',\n",
       " 'Chile/EasterIsland',\n",
       " 'Cuba',\n",
       " 'EET',\n",
       " 'EST',\n",
       " 'EST5EDT',\n",
       " 'Egypt',\n",
       " 'Eire',\n",
       " 'Etc/GMT',\n",
       " 'Etc/GMT+0',\n",
       " 'Etc/GMT+1',\n",
       " 'Etc/GMT+10',\n",
       " 'Etc/GMT+11',\n",
       " 'Etc/GMT+12',\n",
       " 'Etc/GMT+2',\n",
       " 'Etc/GMT+3',\n",
       " 'Etc/GMT+4',\n",
       " 'Etc/GMT+5',\n",
       " 'Etc/GMT+6',\n",
       " 'Etc/GMT+7',\n",
       " 'Etc/GMT+8',\n",
       " 'Etc/GMT+9',\n",
       " 'Etc/GMT-0',\n",
       " 'Etc/GMT-1',\n",
       " 'Etc/GMT-10',\n",
       " 'Etc/GMT-11',\n",
       " 'Etc/GMT-12',\n",
       " 'Etc/GMT-13',\n",
       " 'Etc/GMT-14',\n",
       " 'Etc/GMT-2',\n",
       " 'Etc/GMT-3',\n",
       " 'Etc/GMT-4',\n",
       " 'Etc/GMT-5',\n",
       " 'Etc/GMT-6',\n",
       " 'Etc/GMT-7',\n",
       " 'Etc/GMT-8',\n",
       " 'Etc/GMT-9',\n",
       " 'Etc/GMT0',\n",
       " 'Etc/Greenwich',\n",
       " 'Etc/UCT',\n",
       " 'Etc/UTC',\n",
       " 'Etc/Universal',\n",
       " 'Etc/Zulu',\n",
       " 'Europe/Belfast',\n",
       " 'Europe/Nicosia',\n",
       " 'Europe/Tiraspol',\n",
       " 'GB',\n",
       " 'GB-Eire',\n",
       " 'GMT+0',\n",
       " 'GMT-0',\n",
       " 'GMT0',\n",
       " 'Greenwich',\n",
       " 'HST',\n",
       " 'Hongkong',\n",
       " 'Iceland',\n",
       " 'Iran',\n",
       " 'Israel',\n",
       " 'Jamaica',\n",
       " 'Japan',\n",
       " 'Kwajalein',\n",
       " 'Libya',\n",
       " 'MET',\n",
       " 'MST',\n",
       " 'MST7MDT',\n",
       " 'Mexico/BajaNorte',\n",
       " 'Mexico/BajaSur',\n",
       " 'Mexico/General',\n",
       " 'NZ',\n",
       " 'NZ-CHAT',\n",
       " 'Navajo',\n",
       " 'PRC',\n",
       " 'PST8PDT',\n",
       " 'Pacific/Johnston',\n",
       " 'Pacific/Ponape',\n",
       " 'Pacific/Samoa',\n",
       " 'Pacific/Truk',\n",
       " 'Pacific/Yap',\n",
       " 'Poland',\n",
       " 'Portugal',\n",
       " 'ROC',\n",
       " 'ROK',\n",
       " 'Singapore',\n",
       " 'Turkey',\n",
       " 'UCT',\n",
       " 'US/Aleutian',\n",
       " 'US/East-Indiana',\n",
       " 'US/Indiana-Starke',\n",
       " 'US/Michigan',\n",
       " 'US/Pacific-New',\n",
       " 'US/Samoa',\n",
       " 'Universal',\n",
       " 'W-SU',\n",
       " 'WET',\n",
       " 'Zulu'}"
      ]
     },
     "execution_count": 27,
     "metadata": {},
     "output_type": "execute_result"
    }
   ],
   "source": [
    "set(all_timezones) - set(common_timezones)"
   ]
  },
  {
   "cell_type": "code",
   "execution_count": 28,
   "metadata": {},
   "outputs": [
    {
     "data": {
      "text/plain": [
       "Timestamp('2016-07-10 08:50:00')"
      ]
     },
     "execution_count": 28,
     "metadata": {},
     "output_type": "execute_result"
    }
   ],
   "source": [
    "# You can also localize a naive timestamp\n",
    "t_naive = pd.Timestamp('2016-07-10 08:50')\n",
    "t_naive"
   ]
  },
  {
   "cell_type": "code",
   "execution_count": 29,
   "metadata": {},
   "outputs": [
    {
     "data": {
      "text/plain": [
       "Timestamp('2016-07-10 08:50:00-0500', tz='US/Central')"
      ]
     },
     "execution_count": 29,
     "metadata": {},
     "output_type": "execute_result"
    }
   ],
   "source": [
    "t = t_naive.tz_localize(tz = 'US/Central')\n",
    "t"
   ]
  },
  {
   "cell_type": "code",
   "execution_count": 30,
   "metadata": {},
   "outputs": [
    {
     "data": {
      "text/plain": [
       "Timestamp('2016-07-10 22:50:00+0900', tz='Asia/Tokyo')"
      ]
     },
     "execution_count": 30,
     "metadata": {},
     "output_type": "execute_result"
    }
   ],
   "source": [
    "t.tz_convert('Asia/Tokyo')"
   ]
  },
  {
   "cell_type": "markdown",
   "metadata": {},
   "source": [
    "**what is the difference between tz_localize and tz_convert**"
   ]
  },
  {
   "cell_type": "markdown",
   "metadata": {},
   "source": [
    "*can't convert if there is no tz. Applying t_naive.convert('Asia/Tokyo') gives an error. Similarly, can't localize one which already had been localized.*"
   ]
  },
  {
   "cell_type": "code",
   "execution_count": 31,
   "metadata": {},
   "outputs": [
    {
     "data": {
      "text/plain": [
       "2016-03-10 00:00:00-06:00    0\n",
       "2016-03-11 00:00:00-06:00    1\n",
       "2016-03-12 00:00:00-06:00    2\n",
       "2016-03-13 00:00:00-06:00    3\n",
       "2016-03-14 00:00:00-05:00    4\n",
       "2016-03-15 00:00:00-05:00    5\n",
       "2016-03-16 00:00:00-05:00    6\n",
       "2016-03-17 00:00:00-05:00    7\n",
       "2016-03-18 00:00:00-05:00    8\n",
       "2016-03-19 00:00:00-05:00    9\n",
       "Freq: D, dtype: int64"
      ]
     },
     "execution_count": 31,
     "metadata": {},
     "output_type": "execute_result"
    }
   ],
   "source": [
    "# how to handle daylight savings?\n",
    "#we have daylight saving changes in March. That's why we see the difference in hours in the example given below\n",
    "rng = pd.date_range('2016-03-10', periods=10, tz='US/Central')\n",
    "ts = pd.Series(range(10), index=rng)\n",
    "ts"
   ]
  },
  {
   "cell_type": "code",
   "execution_count": 32,
   "metadata": {},
   "outputs": [
    {
     "data": {
      "text/plain": [
       "2016-03-10 00:00:00+00:00    0\n",
       "2016-03-11 00:00:00+00:00    1\n",
       "2016-03-12 00:00:00+00:00    2\n",
       "2016-03-13 00:00:00+00:00    3\n",
       "2016-03-14 00:00:00+00:00    4\n",
       "2016-03-15 00:00:00+00:00    5\n",
       "2016-03-16 00:00:00+00:00    6\n",
       "2016-03-17 00:00:00+00:00    7\n",
       "2016-03-18 00:00:00+00:00    8\n",
       "2016-03-19 00:00:00+00:00    9\n",
       "Freq: D, dtype: int64"
      ]
     },
     "execution_count": 32,
     "metadata": {},
     "output_type": "execute_result"
    }
   ],
   "source": [
    "rng = pd.date_range('2016-03-10', periods=10, tz='utc')\n",
    "ts = pd.Series(range(10), index=rng)\n",
    "ts"
   ]
  },
  {
   "cell_type": "code",
   "execution_count": 33,
   "metadata": {},
   "outputs": [
    {
     "data": {
      "text/plain": [
       "2016-03-09 18:00:00-06:00    0\n",
       "2016-03-10 18:00:00-06:00    1\n",
       "2016-03-11 18:00:00-06:00    2\n",
       "2016-03-12 18:00:00-06:00    3\n",
       "2016-03-13 19:00:00-05:00    4\n",
       "2016-03-14 19:00:00-05:00    5\n",
       "2016-03-15 19:00:00-05:00    6\n",
       "2016-03-16 19:00:00-05:00    7\n",
       "2016-03-17 19:00:00-05:00    8\n",
       "2016-03-18 19:00:00-05:00    9\n",
       "Freq: D, dtype: int64"
      ]
     },
     "execution_count": 33,
     "metadata": {},
     "output_type": "execute_result"
    }
   ],
   "source": [
    "ts.tz_convert('US/Central')"
   ]
  },
  {
   "cell_type": "code",
   "execution_count": 34,
   "metadata": {},
   "outputs": [
    {
     "data": {
      "text/plain": [
       "DatetimeIndex(['2011-11-06 00:00:00', '2011-11-06 01:00:00',\n",
       "               '2011-11-06 01:00:00', '2011-11-06 02:00:00',\n",
       "               '2011-11-06 03:00:00'],\n",
       "              dtype='datetime64[ns]', freq=None)"
      ]
     },
     "execution_count": 34,
     "metadata": {},
     "output_type": "execute_result"
    }
   ],
   "source": [
    "#For the same reason, you can run into 'ambiguous' dates\n",
    "rng_hourly = pd.DatetimeIndex(['11/06/2011 00:00', '11/06/2011 01:00', '11/06/2011 01:00','11/06/2011 02:00', '11/06/2011 03:00'])\n",
    "rng_hourly"
   ]
  },
  {
   "cell_type": "code",
   "execution_count": 35,
   "metadata": {},
   "outputs": [
    {
     "data": {
      "text/plain": [
       "DatetimeIndex(['2011-11-06 00:00:00-05:00', '2011-11-06 01:00:00-05:00',\n",
       "               '2011-11-06 01:00:00-06:00', '2011-11-06 02:00:00-06:00',\n",
       "               '2011-11-06 03:00:00-06:00'],\n",
       "              dtype='datetime64[ns, US/Central]', freq=None)"
      ]
     },
     "execution_count": 35,
     "metadata": {},
     "output_type": "execute_result"
    }
   ],
   "source": [
    "#rng_hourly.tz_localize('US/Central') gives an error because one of the times does not exist\n",
    "#we can add ambiguous = 'infer' to argument\n",
    "rng_hourly = rng_hourly.tz_localize('US/Central', ambiguous = 'infer')\n",
    "rng_hourly"
   ]
  },
  {
   "cell_type": "markdown",
   "metadata": {},
   "source": [
    "**How can we check whether the inference did what we wanted**"
   ]
  },
  {
   "cell_type": "code",
   "execution_count": 36,
   "metadata": {},
   "outputs": [
    {
     "data": {
      "text/plain": [
       "DatetimeIndex(['2011-11-06 05:00:00+00:00', '2011-11-06 06:00:00+00:00',\n",
       "               '2011-11-06 07:00:00+00:00', '2011-11-06 08:00:00+00:00',\n",
       "               '2011-11-06 09:00:00+00:00'],\n",
       "              dtype='datetime64[ns, UTC]', freq=None)"
      ]
     },
     "execution_count": 36,
     "metadata": {},
     "output_type": "execute_result"
    }
   ],
   "source": [
    "rng_hourly.tz_convert('UTC')"
   ]
  },
  {
   "cell_type": "code",
   "execution_count": 37,
   "metadata": {},
   "outputs": [
    {
     "data": {
      "text/plain": [
       "DatetimeIndex(['2016-03-12 22:00:00-05:00', '2016-03-12 23:00:00-05:00',\n",
       "               '2016-03-13 00:00:00-05:00', '2016-03-13 01:00:00-05:00',\n",
       "               '2016-03-13 03:00:00-04:00', '2016-03-13 04:00:00-04:00',\n",
       "               '2016-03-13 05:00:00-04:00', '2016-03-13 06:00:00-04:00',\n",
       "               '2016-03-13 07:00:00-04:00', '2016-03-13 08:00:00-04:00',\n",
       "               '2016-03-13 09:00:00-04:00', '2016-03-13 10:00:00-04:00'],\n",
       "              dtype='datetime64[ns, US/Eastern]', freq='H')"
      ]
     },
     "execution_count": 37,
     "metadata": {},
     "output_type": "execute_result"
    }
   ],
   "source": [
    "pd.date_range('03-12-2016 22:00', periods = 12, freq = 'H', tz = 'US/Eastern')"
   ]
  },
  {
   "cell_type": "code",
   "execution_count": null,
   "metadata": {},
   "outputs": [],
   "source": [
    "# May autocorrect an error rather than giving you a non-existent time error\n",
    "pd.Timestamp('2016-03-13 02:00', tz = 'US/Eastern')"
   ]
  }
 ],
 "metadata": {
  "kernelspec": {
   "display_name": "Python 3",
   "language": "python",
   "name": "python3"
  },
  "language_info": {
   "codemirror_mode": {
    "name": "ipython",
    "version": 3
   },
   "file_extension": ".py",
   "mimetype": "text/x-python",
   "name": "python",
   "nbconvert_exporter": "python",
   "pygments_lexer": "ipython3",
   "version": "3.6.2"
  },
  "widgets": {
   "state": {},
   "version": "1.1.1"
  }
 },
 "nbformat": 4,
 "nbformat_minor": 1
}
