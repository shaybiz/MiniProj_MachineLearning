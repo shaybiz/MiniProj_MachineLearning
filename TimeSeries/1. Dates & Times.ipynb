{
 "cells": [
  {
   "cell_type": "code",
   "execution_count": 64,
   "metadata": {
    "collapsed": true
   },
   "outputs": [],
   "source": [
    "import pandas as pd\n",
    "import numpy as np"
   ]
  },
  {
   "cell_type": "code",
   "execution_count": 65,
   "metadata": {},
   "outputs": [
    {
     "data": {
      "text/plain": [
       "DatetimeIndex(['2016-07-01', '2016-07-02', '2016-07-03', '2016-07-04',\n",
       "               '2016-07-05', '2016-07-06', '2016-07-07', '2016-07-08',\n",
       "               '2016-07-09', '2016-07-10'],\n",
       "              dtype='datetime64[ns]', freq='D')"
      ]
     },
     "execution_count": 65,
     "metadata": {},
     "output_type": "execute_result"
    }
   ],
   "source": [
    "# TIMES\n",
    "rng = pd.date_range('2016 Jul 1', periods = 10, freq = 'D')\n",
    "rng"
   ]
  },
  {
   "cell_type": "code",
   "execution_count": 66,
   "metadata": {
    "collapsed": true
   },
   "outputs": [],
   "source": [
    "# Which of these formats DON'T work?\n",
    "#'2016 Jul 1', '7/1/2016', '1/7/2016', 'July 1, 2016', '2016-07-01', '2016/07/01'"
   ]
  },
  {
   "cell_type": "code",
   "execution_count": 67,
   "metadata": {},
   "outputs": [
    {
     "data": {
      "text/plain": [
       "DatetimeIndex(['2016-07-01', '2016-07-02', '2016-07-03', '2016-07-04',\n",
       "               '2016-07-05', '2016-07-06', '2016-07-07', '2016-07-08',\n",
       "               '2016-07-09', '2016-07-10'],\n",
       "              dtype='datetime64[ns]', freq='D')"
      ]
     },
     "execution_count": 67,
     "metadata": {},
     "output_type": "execute_result"
    }
   ],
   "source": [
    "rng = pd.date_range('7/1/2016', periods = 10, freq = 'D')\n",
    "rng"
   ]
  },
  {
   "cell_type": "code",
   "execution_count": 68,
   "metadata": {},
   "outputs": [
    {
     "data": {
      "text/plain": [
       "DatetimeIndex(['2016-01-07', '2016-01-08', '2016-01-09', '2016-01-10',\n",
       "               '2016-01-11', '2016-01-12', '2016-01-13', '2016-01-14',\n",
       "               '2016-01-15', '2016-01-16'],\n",
       "              dtype='datetime64[ns]', freq='D')"
      ]
     },
     "execution_count": 68,
     "metadata": {},
     "output_type": "execute_result"
    }
   ],
   "source": [
    "rng = pd.date_range('1/7/2016', periods = 10, freq = 'D')\n",
    "rng"
   ]
  },
  {
   "cell_type": "code",
   "execution_count": 69,
   "metadata": {},
   "outputs": [
    {
     "data": {
      "text/plain": [
       "DatetimeIndex(['2016-07-01', '2016-07-02', '2016-07-03', '2016-07-04',\n",
       "               '2016-07-05', '2016-07-06', '2016-07-07', '2016-07-08',\n",
       "               '2016-07-09', '2016-07-10'],\n",
       "              dtype='datetime64[ns]', freq='D')"
      ]
     },
     "execution_count": 69,
     "metadata": {},
     "output_type": "execute_result"
    }
   ],
   "source": [
    "rng = pd.date_range('July 1, 2016', periods = 10, freq = 'D')\n",
    "rng"
   ]
  },
  {
   "cell_type": "code",
   "execution_count": 70,
   "metadata": {},
   "outputs": [
    {
     "data": {
      "text/plain": [
       "DatetimeIndex(['2016-07-01', '2016-07-02', '2016-07-03', '2016-07-04',\n",
       "               '2016-07-05', '2016-07-06', '2016-07-07', '2016-07-08',\n",
       "               '2016-07-09', '2016-07-10'],\n",
       "              dtype='datetime64[ns]', freq='D')"
      ]
     },
     "execution_count": 70,
     "metadata": {},
     "output_type": "execute_result"
    }
   ],
   "source": [
    "rng = pd.date_range('2016-07-01', periods = 10, freq = 'D')\n",
    "rng"
   ]
  },
  {
   "cell_type": "code",
   "execution_count": 71,
   "metadata": {},
   "outputs": [
    {
     "data": {
      "text/plain": [
       "pandas._libs.tslib.Timestamp"
      ]
     },
     "execution_count": 71,
     "metadata": {},
     "output_type": "execute_result"
    }
   ],
   "source": [
    "rng = pd.date_range('2016/07/01', periods = 10, freq = 'D')\n",
    "rng\n",
    "type(rng[0])"
   ]
  },
  {
   "cell_type": "code",
   "execution_count": 72,
   "metadata": {
    "collapsed": true
   },
   "outputs": [],
   "source": [
    "# Is '7/1/2016 in January or July?\n",
    "#July"
   ]
  },
  {
   "cell_type": "code",
   "execution_count": 73,
   "metadata": {
    "collapsed": true
   },
   "outputs": [],
   "source": [
    "# What is the class of an individual object held in the date_range?\n",
    "#Timestamp"
   ]
  },
  {
   "cell_type": "code",
   "execution_count": 74,
   "metadata": {},
   "outputs": [
    {
     "data": {
      "text/plain": [
       "Timestamp('2016-07-10 00:00:00')"
      ]
     },
     "execution_count": 74,
     "metadata": {},
     "output_type": "execute_result"
    }
   ],
   "source": [
    "# TIME STAMPS VS TIME SPANS\n",
    "pd.Timestamp('2016-07-10')"
   ]
  },
  {
   "cell_type": "code",
   "execution_count": 75,
   "metadata": {},
   "outputs": [
    {
     "data": {
      "text/plain": [
       "Timestamp('2016-07-10 10:00:00')"
      ]
     },
     "execution_count": 75,
     "metadata": {},
     "output_type": "execute_result"
    }
   ],
   "source": [
    "# You can also more details \n",
    "pd.Timestamp('2016-07-10 10')"
   ]
  },
  {
   "cell_type": "code",
   "execution_count": 76,
   "metadata": {},
   "outputs": [
    {
     "data": {
      "text/plain": [
       "Timestamp('2016-07-10 20:00:00')"
      ]
     },
     "execution_count": 76,
     "metadata": {},
     "output_type": "execute_result"
    }
   ],
   "source": [
    "pd.Timestamp('2016-07-10 8 pm')"
   ]
  },
  {
   "cell_type": "code",
   "execution_count": 77,
   "metadata": {},
   "outputs": [
    {
     "data": {
      "text/plain": [
       "Timestamp('2016-07-10 10:15:00')"
      ]
     },
     "execution_count": 77,
     "metadata": {},
     "output_type": "execute_result"
    }
   ],
   "source": [
    "# Or even more...\n",
    "pd.Timestamp('2016-07-10 10:15')"
   ]
  },
  {
   "cell_type": "code",
   "execution_count": 78,
   "metadata": {
    "collapsed": true
   },
   "outputs": [],
   "source": [
    "# How much detail can you add?"
   ]
  },
  {
   "cell_type": "code",
   "execution_count": 79,
   "metadata": {},
   "outputs": [
    {
     "data": {
      "text/plain": [
       "Timestamp('2016-07-10 10:15:15.123456789')"
      ]
     },
     "execution_count": 79,
     "metadata": {},
     "output_type": "execute_result"
    }
   ],
   "source": [
    "pd.Timestamp('2016-07-10 10:15:15.123456789')"
   ]
  },
  {
   "cell_type": "code",
   "execution_count": 80,
   "metadata": {
    "collapsed": true
   },
   "outputs": [],
   "source": [
    "# What are some properties of timestamps? Try them out.\n",
    "# hint: http://pandas.pydata.org/pandas-docs/stable/timeseries.html#time-date-components\n",
    "t = pd.Timestamp('2016-07-10 10:15')"
   ]
  },
  {
   "cell_type": "code",
   "execution_count": 81,
   "metadata": {},
   "outputs": [
    {
     "data": {
      "text/plain": [
       "3"
      ]
     },
     "execution_count": 81,
     "metadata": {},
     "output_type": "execute_result"
    }
   ],
   "source": [
    "t.quarter"
   ]
  },
  {
   "cell_type": "code",
   "execution_count": 82,
   "metadata": {},
   "outputs": [
    {
     "data": {
      "text/plain": [
       "6"
      ]
     },
     "execution_count": 82,
     "metadata": {},
     "output_type": "execute_result"
    }
   ],
   "source": [
    "t.dayofweek"
   ]
  },
  {
   "cell_type": "code",
   "execution_count": 83,
   "metadata": {},
   "outputs": [
    {
     "data": {
      "text/plain": [
       "Timestamp('2016-07-10 10:15:15.123456789')"
      ]
     },
     "execution_count": 83,
     "metadata": {},
     "output_type": "execute_result"
    }
   ],
   "source": [
    "pd.Timestamp('2016-07-10 10:15:15.123456789')"
   ]
  },
  {
   "cell_type": "code",
   "execution_count": 84,
   "metadata": {},
   "outputs": [
    {
     "data": {
      "text/plain": [
       "Period('2016-01', 'M')"
      ]
     },
     "execution_count": 84,
     "metadata": {},
     "output_type": "execute_result"
    }
   ],
   "source": [
    "# TIME SPANS\n",
    "pd.Period('2016-01')"
   ]
  },
  {
   "cell_type": "code",
   "execution_count": 85,
   "metadata": {
    "collapsed": true
   },
   "outputs": [],
   "source": [
    "p = pd.Period('7/2016')\n",
    "t = pd.Timestamp('7/21/2016')"
   ]
  },
  {
   "cell_type": "code",
   "execution_count": 86,
   "metadata": {},
   "outputs": [
    {
     "data": {
      "text/plain": [
       "True"
      ]
     },
     "execution_count": 86,
     "metadata": {},
     "output_type": "execute_result"
    }
   ],
   "source": [
    "p.start_time < t and p.end_time > t"
   ]
  },
  {
   "cell_type": "code",
   "execution_count": 87,
   "metadata": {},
   "outputs": [
    {
     "data": {
      "text/plain": [
       "True"
      ]
     },
     "execution_count": 87,
     "metadata": {},
     "output_type": "execute_result"
    }
   ],
   "source": [
    "p.start_time < t < p.end_time"
   ]
  },
  {
   "cell_type": "code",
   "execution_count": 88,
   "metadata": {
    "collapsed": true
   },
   "outputs": [],
   "source": [
    "# What's that extra info above? How does it get set?"
   ]
  },
  {
   "cell_type": "code",
   "execution_count": 89,
   "metadata": {},
   "outputs": [
    {
     "data": {
      "text/plain": [
       "Period('2016-01-01', 'D')"
      ]
     },
     "execution_count": 89,
     "metadata": {},
     "output_type": "execute_result"
    }
   ],
   "source": [
    "pd.Period('2016-01-01')"
   ]
  },
  {
   "cell_type": "code",
   "execution_count": 90,
   "metadata": {},
   "outputs": [
    {
     "data": {
      "text/plain": [
       "Period('2016-01-01 10:00', 'H')"
      ]
     },
     "execution_count": 90,
     "metadata": {},
     "output_type": "execute_result"
    }
   ],
   "source": [
    "pd.Period('2016-01-01 10')"
   ]
  },
  {
   "cell_type": "code",
   "execution_count": 91,
   "metadata": {},
   "outputs": [
    {
     "data": {
      "text/plain": [
       "Period('2016-01-01 10:10', 'T')"
      ]
     },
     "execution_count": 91,
     "metadata": {},
     "output_type": "execute_result"
    }
   ],
   "source": [
    "pd.Period('2016-01-01 10:10')"
   ]
  },
  {
   "cell_type": "code",
   "execution_count": 92,
   "metadata": {},
   "outputs": [
    {
     "data": {
      "text/plain": [
       "Period('2016-01-01 10:10:10', 'S')"
      ]
     },
     "execution_count": 92,
     "metadata": {},
     "output_type": "execute_result"
    }
   ],
   "source": [
    "pd.Period('2016-01-01 10:10:10')"
   ]
  },
  {
   "cell_type": "code",
   "execution_count": 93,
   "metadata": {
    "collapsed": true
   },
   "outputs": [],
   "source": [
    "# What's the most detailed Period you can get?\n",
    "#micro-second"
   ]
  },
  {
   "cell_type": "code",
   "execution_count": 94,
   "metadata": {},
   "outputs": [
    {
     "data": {
      "text/plain": [
       "Period('2016-01-01 10:10:10.120', 'L')"
      ]
     },
     "execution_count": 94,
     "metadata": {},
     "output_type": "execute_result"
    }
   ],
   "source": [
    "pd.Period('2016-01-01 10:10:10.12')"
   ]
  },
  {
   "cell_type": "code",
   "execution_count": 95,
   "metadata": {},
   "outputs": [
    {
     "data": {
      "text/plain": [
       "Period('2016-01-01 10:10:10.123456', 'U')"
      ]
     },
     "execution_count": 95,
     "metadata": {},
     "output_type": "execute_result"
    }
   ],
   "source": [
    "pd.Period('2016-01-01 10:10:10.123456789')"
   ]
  },
  {
   "cell_type": "code",
   "execution_count": 96,
   "metadata": {
    "collapsed": true
   },
   "outputs": [],
   "source": [
    "# How can you make multiple time periods? \n",
    "# Hint look for analogy with pd.date_range() above"
   ]
  },
  {
   "cell_type": "code",
   "execution_count": 97,
   "metadata": {},
   "outputs": [
    {
     "data": {
      "text/plain": [
       "PeriodIndex(['2016-07-01', '2016-07-02', '2016-07-03', '2016-07-04',\n",
       "             '2016-07-05', '2016-07-06', '2016-07-07', '2016-07-08',\n",
       "             '2016-07-09', '2016-07-10'],\n",
       "            dtype='period[D]', freq='D')"
      ]
     },
     "execution_count": 97,
     "metadata": {},
     "output_type": "execute_result"
    }
   ],
   "source": [
    "pd.period_range('7/1/2016', periods = 10)"
   ]
  },
  {
   "cell_type": "code",
   "execution_count": 98,
   "metadata": {},
   "outputs": [
    {
     "data": {
      "text/plain": [
       "PeriodIndex(['2016-07-01 10:00', '2016-07-01 11:00', '2016-07-01 12:00',\n",
       "             '2016-07-01 13:00', '2016-07-01 14:00', '2016-07-01 15:00',\n",
       "             '2016-07-01 16:00', '2016-07-01 17:00', '2016-07-01 18:00',\n",
       "             '2016-07-01 19:00'],\n",
       "            dtype='period[H]', freq='H')"
      ]
     },
     "execution_count": 98,
     "metadata": {},
     "output_type": "execute_result"
    }
   ],
   "source": [
    "pd.period_range('7/1/2016 10:15', periods = 10, freq = 'H')"
   ]
  },
  {
   "cell_type": "code",
   "execution_count": 99,
   "metadata": {},
   "outputs": [
    {
     "data": {
      "text/plain": [
       "PeriodIndex(['2016-07-01 10:15', '2016-07-01 11:15', '2016-07-01 12:15',\n",
       "             '2016-07-01 13:15', '2016-07-01 14:15', '2016-07-01 15:15',\n",
       "             '2016-07-01 16:15', '2016-07-01 17:15', '2016-07-01 18:15',\n",
       "             '2016-07-01 19:15'],\n",
       "            dtype='period[60T]', freq='60T')"
      ]
     },
     "execution_count": 99,
     "metadata": {},
     "output_type": "execute_result"
    }
   ],
   "source": [
    "pd.period_range('7/1/2016 10:15', periods = 10, freq = '60T')"
   ]
  },
  {
   "cell_type": "code",
   "execution_count": 100,
   "metadata": {},
   "outputs": [
    {
     "data": {
      "text/plain": [
       "Timedelta('1 days 00:00:00')"
      ]
     },
     "execution_count": 100,
     "metadata": {},
     "output_type": "execute_result"
    }
   ],
   "source": [
    "# TIME OFFSETS\n",
    "pd.Timedelta('1 day')"
   ]
  },
  {
   "cell_type": "code",
   "execution_count": 101,
   "metadata": {},
   "outputs": [
    {
     "data": {
      "text/plain": [
       "Period('2016-01-02 10:10', 'T')"
      ]
     },
     "execution_count": 101,
     "metadata": {},
     "output_type": "execute_result"
    }
   ],
   "source": [
    "pd.Period('2016-01-01 10:10') + pd.Timedelta('1 day')"
   ]
  },
  {
   "cell_type": "code",
   "execution_count": 102,
   "metadata": {},
   "outputs": [
    {
     "data": {
      "text/plain": [
       "Timestamp('2016-01-02 10:10:00')"
      ]
     },
     "execution_count": 102,
     "metadata": {},
     "output_type": "execute_result"
    }
   ],
   "source": [
    "pd.Timestamp('2016-01-01 10:10') + pd.Timedelta('1 day')"
   ]
  },
  {
   "cell_type": "code",
   "execution_count": 103,
   "metadata": {},
   "outputs": [
    {
     "data": {
      "text/plain": [
       "Timestamp('2016-01-01 10:10:00.000000015')"
      ]
     },
     "execution_count": 103,
     "metadata": {},
     "output_type": "execute_result"
    }
   ],
   "source": [
    "pd.Timestamp('2016-01-01 10:10') + pd.Timedelta('15 ns')"
   ]
  },
  {
   "cell_type": "code",
   "execution_count": 104,
   "metadata": {},
   "outputs": [
    {
     "data": {
      "text/plain": [
       "PeriodIndex(['2016-01-01', '2016-01-04', '2016-01-05', '2016-01-06',\n",
       "             '2016-01-07', '2016-01-08', '2016-01-11', '2016-01-12',\n",
       "             '2016-01-13', '2016-01-14'],\n",
       "            dtype='period[B]', freq='B')"
      ]
     },
     "execution_count": 104,
     "metadata": {},
     "output_type": "execute_result"
    }
   ],
   "source": [
    "# FANCY FREQUENCY SETTING\n",
    "# Only want business days\n",
    "pd.period_range('2016-01-01 10:10', freq = 'B', periods = 10)"
   ]
  },
  {
   "cell_type": "code",
   "execution_count": 105,
   "metadata": {},
   "outputs": [],
   "source": [
    "# It's possible to combine frequencies. What if you want to advance by 25 hours each day. What are the 2 ways to do it?\n",
    "p1 = pd.period_range('2016-01-01 10:10', freq = '25H', periods = 10)"
   ]
  },
  {
   "cell_type": "code",
   "execution_count": 106,
   "metadata": {
    "collapsed": true
   },
   "outputs": [],
   "source": [
    "p2 = pd.period_range('2016-01-01 10:10', freq = '1D1H', periods = 10)"
   ]
  },
  {
   "cell_type": "code",
   "execution_count": 107,
   "metadata": {},
   "outputs": [
    {
     "data": {
      "text/plain": [
       "PeriodIndex(['2016-01-01 10:00', '2016-01-02 11:00', '2016-01-03 12:00',\n",
       "             '2016-01-04 13:00', '2016-01-05 14:00', '2016-01-06 15:00',\n",
       "             '2016-01-07 16:00', '2016-01-08 17:00', '2016-01-09 18:00',\n",
       "             '2016-01-10 19:00'],\n",
       "            dtype='period[25H]', freq='25H')"
      ]
     },
     "execution_count": 107,
     "metadata": {},
     "output_type": "execute_result"
    }
   ],
   "source": [
    "p1"
   ]
  },
  {
   "cell_type": "code",
   "execution_count": 108,
   "metadata": {},
   "outputs": [
    {
     "data": {
      "text/plain": [
       "PeriodIndex(['2016-01-01 10:00', '2016-01-02 11:00', '2016-01-03 12:00',\n",
       "             '2016-01-04 13:00', '2016-01-05 14:00', '2016-01-06 15:00',\n",
       "             '2016-01-07 16:00', '2016-01-08 17:00', '2016-01-09 18:00',\n",
       "             '2016-01-10 19:00'],\n",
       "            dtype='period[25H]', freq='25H')"
      ]
     },
     "execution_count": 108,
     "metadata": {},
     "output_type": "execute_result"
    }
   ],
   "source": [
    "p2"
   ]
  },
  {
   "cell_type": "code",
   "execution_count": 109,
   "metadata": {},
   "outputs": [
    {
     "data": {
      "text/plain": [
       "DatetimeIndex([       '2016-01-01 10:10:00', '2016-01-02 10:10:00.000010',\n",
       "               '2016-01-03 10:10:00.000020', '2016-01-04 10:10:00.000030',\n",
       "               '2016-01-05 10:10:00.000040', '2016-01-06 10:10:00.000050',\n",
       "               '2016-01-07 10:10:00.000060', '2016-01-08 10:10:00.000070',\n",
       "               '2016-01-09 10:10:00.000080', '2016-01-10 10:10:00.000090'],\n",
       "              dtype='datetime64[ns]', freq='86400000010U')"
      ]
     },
     "execution_count": 109,
     "metadata": {},
     "output_type": "execute_result"
    }
   ],
   "source": [
    "# What are some other combos you can produce?\n",
    "# hint: http://pandas.pydata.org/pandas-docs/stable/timeseries.html#offset-aliases\n",
    "pd.date_range('2016-01-01 10:10', periods=10, freq='1D10U')"
   ]
  },
  {
   "cell_type": "markdown",
   "metadata": {},
   "source": [
    "**How can we index a time series with a date_range?**"
   ]
  },
  {
   "cell_type": "code",
   "execution_count": 110,
   "metadata": {},
   "outputs": [
    {
     "data": {
      "text/plain": [
       "2016-07-01    0\n",
       "2016-07-02    1\n",
       "2016-07-03    2\n",
       "2016-07-04    3\n",
       "2016-07-05    4\n",
       "2016-07-06    5\n",
       "2016-07-07    6\n",
       "2016-07-08    7\n",
       "2016-07-09    8\n",
       "2016-07-10    9\n",
       "Freq: D, dtype: int64"
      ]
     },
     "execution_count": 110,
     "metadata": {},
     "output_type": "execute_result"
    }
   ],
   "source": [
    "# INDEXING WITH TIME OBJECTS\n",
    "# You can use these objects for indices\n",
    "# Let's start with using a date range as above\n",
    "rng = pd.date_range('2016 Jul 1', periods = 10, freq = 'D')\n",
    "rng\n",
    "pd.Series(range(len(rng)), index = rng)"
   ]
  },
  {
   "cell_type": "code",
   "execution_count": 111,
   "metadata": {},
   "outputs": [
    {
     "data": {
      "text/plain": [
       "2016-01    0.535929\n",
       "2016-02   -0.940132\n",
       "2016-03   -1.005521\n",
       "Freq: M, dtype: float64"
      ]
     },
     "execution_count": 111,
     "metadata": {},
     "output_type": "execute_result"
    }
   ],
   "source": [
    "# You can also use time period indices, in cases where it makes more sense \n",
    "# to think about your index as a time span rather than a single point in time\n",
    "\n",
    "periods = [pd.Period('2016-01'), pd.Period('2016-02'), pd.Period('2016-03')]\n",
    "ts = pd.Series(np.random.randn(len(periods)), index = periods)\n",
    "ts"
   ]
  },
  {
   "cell_type": "code",
   "execution_count": 112,
   "metadata": {},
   "outputs": [
    {
     "data": {
      "text/plain": [
       "pandas.core.indexes.period.PeriodIndex"
      ]
     },
     "execution_count": 112,
     "metadata": {},
     "output_type": "execute_result"
    }
   ],
   "source": [
    "# What type is the index for ts?\n",
    "type(ts.index)"
   ]
  },
  {
   "cell_type": "markdown",
   "metadata": {},
   "source": [
    "**period index**"
   ]
  },
  {
   "cell_type": "code",
   "execution_count": 113,
   "metadata": {},
   "outputs": [
    {
     "data": {
      "text/plain": [
       "0.53592925236273925"
      ]
     },
     "execution_count": 113,
     "metadata": {},
     "output_type": "execute_result"
    }
   ],
   "source": [
    "# Experiment with various indices\n",
    "# Hint: does ts['2016'] work? \n",
    "ts['2016-01']"
   ]
  },
  {
   "cell_type": "code",
   "execution_count": 114,
   "metadata": {},
   "outputs": [
    {
     "data": {
      "text/plain": [
       "2016-01    0.535929\n",
       "2016-02   -0.940132\n",
       "2016-03   -1.005521\n",
       "Freq: M, dtype: float64"
      ]
     },
     "execution_count": 114,
     "metadata": {},
     "output_type": "execute_result"
    }
   ],
   "source": [
    "ts['2016']"
   ]
  },
  {
   "cell_type": "code",
   "execution_count": 115,
   "metadata": {},
   "outputs": [
    {
     "data": {
      "text/plain": [
       "2016-01    0.535929\n",
       "2016-02   -0.940132\n",
       "2016-03   -1.005521\n",
       "Freq: M, dtype: float64"
      ]
     },
     "execution_count": 115,
     "metadata": {},
     "output_type": "execute_result"
    }
   ],
   "source": [
    "ts['2016-']"
   ]
  },
  {
   "cell_type": "code",
   "execution_count": 116,
   "metadata": {},
   "outputs": [
    {
     "data": {
      "text/plain": [
       "2016-07-10 08:00:00    0\n",
       "2016-07-10 09:00:00    1\n",
       "2016-07-10 10:00:00    2\n",
       "2016-07-10 11:00:00    3\n",
       "2016-07-10 12:00:00    4\n",
       "2016-07-10 13:00:00    5\n",
       "2016-07-10 14:00:00    6\n",
       "2016-07-10 15:00:00    7\n",
       "2016-07-10 16:00:00    8\n",
       "2016-07-10 17:00:00    9\n",
       "Freq: H, dtype: int64"
      ]
     },
     "execution_count": 116,
     "metadata": {},
     "output_type": "execute_result"
    }
   ],
   "source": [
    "# Timestamped data can be convereted to period indices with to_period and vice versa with to_timestamp\n",
    "ts = pd.Series(range(10), pd.date_range('07-10-16 8:00', periods = 10, freq = 'H'))\n",
    "ts"
   ]
  },
  {
   "cell_type": "code",
   "execution_count": 117,
   "metadata": {},
   "outputs": [
    {
     "data": {
      "text/plain": [
       "2016-07-10 08:00    0\n",
       "2016-07-10 09:00    1\n",
       "2016-07-10 10:00    2\n",
       "2016-07-10 11:00    3\n",
       "2016-07-10 12:00    4\n",
       "2016-07-10 13:00    5\n",
       "2016-07-10 14:00    6\n",
       "2016-07-10 15:00    7\n",
       "2016-07-10 16:00    8\n",
       "2016-07-10 17:00    9\n",
       "Freq: H, dtype: int64"
      ]
     },
     "execution_count": 117,
     "metadata": {},
     "output_type": "execute_result"
    }
   ],
   "source": [
    "ts_period = ts.to_period()\n",
    "ts_period"
   ]
  },
  {
   "cell_type": "code",
   "execution_count": 118,
   "metadata": {},
   "outputs": [
    {
     "data": {
      "text/plain": [
       "2016-07-10 08:00    0\n",
       "2016-07-10 09:00    1\n",
       "2016-07-10 10:00    2\n",
       "2016-07-10 11:00    3\n",
       "Freq: H, dtype: int64"
      ]
     },
     "execution_count": 118,
     "metadata": {},
     "output_type": "execute_result"
    }
   ],
   "source": [
    "ts_period['2016-07-10 08:30':'2016-07-10 11:45'] # we have the concept of overlap with time periods"
   ]
  },
  {
   "cell_type": "code",
   "execution_count": 119,
   "metadata": {},
   "outputs": [
    {
     "data": {
      "text/plain": [
       "2016-07-10 09:00:00    1\n",
       "2016-07-10 10:00:00    2\n",
       "2016-07-10 11:00:00    3\n",
       "Freq: H, dtype: int64"
      ]
     },
     "execution_count": 119,
     "metadata": {},
     "output_type": "execute_result"
    }
   ],
   "source": [
    "ts['2016-07-10 08:30':'2016-07-10 11:45'] # we have the concept of include with timestamps"
   ]
  },
  {
   "cell_type": "code",
   "execution_count": 120,
   "metadata": {},
   "outputs": [
    {
     "data": {
      "text/plain": [
       "Timestamp('2016-03-04 00:00:00')"
      ]
     },
     "execution_count": 120,
     "metadata": {},
     "output_type": "execute_result"
    }
   ],
   "source": [
    "#European style formatted date string\n",
    "pd.to_datetime('04/03/2016', dayfirst = True)"
   ]
  },
  {
   "cell_type": "code",
   "execution_count": 121,
   "metadata": {},
   "outputs": [
    {
     "data": {
      "text/plain": [
       "'2016-03-04'"
      ]
     },
     "execution_count": 121,
     "metadata": {},
     "output_type": "execute_result"
    }
   ],
   "source": [
    "#generate string represenation in a desired format\n",
    "pd.to_datetime('04/03/2016', dayfirst = True).strftime('%Y-%m-%d')"
   ]
  },
  {
   "cell_type": "markdown",
   "metadata": {},
   "source": [
    "**more neat indexing**"
   ]
  },
  {
   "cell_type": "code",
   "execution_count": 122,
   "metadata": {},
   "outputs": [
    {
     "data": {
      "text/plain": [
       "[0, 1, 2, 3, 4, 5, 6, 7, 8, 9, 10, 11, 12, 13, 14, 15, 16, 17, 18, 19]"
      ]
     },
     "execution_count": 122,
     "metadata": {},
     "output_type": "execute_result"
    }
   ],
   "source": [
    "nums = list(range(20))\n",
    "nums"
   ]
  },
  {
   "cell_type": "code",
   "execution_count": 123,
   "metadata": {},
   "outputs": [
    {
     "data": {
      "text/plain": [
       "[0, 2, 4, 6, 8, 10, 12, 14, 16, 18]"
      ]
     },
     "execution_count": 123,
     "metadata": {},
     "output_type": "execute_result"
    }
   ],
   "source": [
    "nums[::2]"
   ]
  },
  {
   "cell_type": "code",
   "execution_count": 131,
   "metadata": {},
   "outputs": [
    {
     "data": {
      "text/plain": [
       "2016-07-10 10:00    2\n",
       "2016-07-10 13:00    5\n",
       "2016-07-10 16:00    8\n",
       "Freq: H, dtype: int64"
      ]
     },
     "execution_count": 131,
     "metadata": {},
     "output_type": "execute_result"
    }
   ],
   "source": [
    "ts_period[pd.Period('July 10, 2016 10', freq = '60T')::3]"
   ]
  },
  {
   "cell_type": "code",
   "execution_count": 132,
   "metadata": {},
   "outputs": [
    {
     "data": {
      "text/plain": [
       "2016-07-10 10:00    2\n",
       "2016-07-10 13:00    5\n",
       "2016-07-10 16:00    8\n",
       "Freq: H, dtype: int64"
      ]
     },
     "execution_count": 132,
     "metadata": {},
     "output_type": "execute_result"
    }
   ],
   "source": [
    "ts_period['July 10, 2016 10'::3]"
   ]
  }
 ],
 "metadata": {
  "kernelspec": {
   "display_name": "Python 3",
   "language": "python",
   "name": "python3"
  },
  "language_info": {
   "codemirror_mode": {
    "name": "ipython",
    "version": 3
   },
   "file_extension": ".py",
   "mimetype": "text/x-python",
   "name": "python",
   "nbconvert_exporter": "python",
   "pygments_lexer": "ipython3",
   "version": "3.6.2"
  },
  "widgets": {
   "state": {},
   "version": "1.1.1"
  }
 },
 "nbformat": 4,
 "nbformat_minor": 1
}
